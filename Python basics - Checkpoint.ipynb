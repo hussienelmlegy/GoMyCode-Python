{
 "cells": [
  {
   "cell_type": "code",
   "execution_count": 36,
   "id": "1c12d2f3",
   "metadata": {},
   "outputs": [
    {
     "name": "stdout",
     "output_type": "stream",
     "text": [
      "neissuh ygelmlE\n"
     ]
    }
   ],
   "source": [
    "FN= \"hussien\"\n",
    "LN= \"Elmlegy\"\n",
    "print (FN[::-1] + \" \" + LN[::-1])\n"
   ]
  },
  {
   "cell_type": "code",
   "execution_count": 38,
   "id": "892f5910",
   "metadata": {},
   "outputs": [
    {
     "name": "stdout",
     "output_type": "stream",
     "text": [
      "615\n"
     ]
    }
   ],
   "source": [
    "n= 5\n",
    "val= (n + ((n*10)+n) + (n*111))\n",
    "print (val)"
   ]
  },
  {
   "cell_type": "code",
   "execution_count": 50,
   "id": "3b645a62",
   "metadata": {},
   "outputs": [
    {
     "name": "stdout",
     "output_type": "stream",
     "text": [
      "insert a number5\n",
      "Welcome to the odd world\n"
     ]
    }
   ],
   "source": [
    "num=int(input(\"insert a number\"))\n",
    "\n",
    "mod= num %2\n",
    "\n",
    "if mod > 0:\n",
    "    print (\"Welcome to the odd world\")\n",
    "    \n",
    "else:\n",
    "    print (\"say hello to this even\")\n",
    "        "
   ]
  },
  {
   "cell_type": "code",
   "execution_count": 15,
   "id": "f0b40ced",
   "metadata": {},
   "outputs": [
    {
     "name": "stdout",
     "output_type": "stream",
     "text": [
      "[2002, 2009, 2016, 2023, 2037, 2044, 2051, 2058, 2072, 2079, 2086, 2093, 2107, 2114, 2121, 2128, 2142, 2149, 2156, 2163, 2177, 2184, 2191, 2198, 2212, 2219, 2226, 2233, 2247, 2254, 2261, 2268, 2282, 2289, 2296, 2303, 2317, 2324, 2331, 2338, 2352, 2359, 2366, 2373, 2387, 2394, 2401, 2408, 2422, 2429, 2436, 2443, 2457, 2464, 2471, 2478, 2492, 2499, 2506, 2513, 2527, 2534, 2541, 2548, 2562, 2569, 2576, 2583, 2597, 2604, 2611, 2618, 2632, 2639, 2646, 2653, 2667, 2674, 2681, 2688, 2702, 2709, 2716, 2723, 2737, 2744, 2751, 2758, 2772, 2779, 2786, 2793, 2807, 2814, 2821, 2828, 2842, 2849, 2856, 2863, 2877, 2884, 2891, 2898, 2912, 2919, 2926, 2933, 2947, 2954, 2961, 2968, 2982, 2989, 2996, 3003, 3017, 3024, 3031, 3038, 3052, 3059, 3066, 3073, 3087, 3094, 3101, 3108, 3122, 3129, 3136, 3143, 3157, 3164, 3171, 3178, 3192, 3199]\n"
     ]
    }
   ],
   "source": [
    "n =  [i for i in range(2000, 3201) if i % 7 == 0 if i % 5 != 0] \n",
    "print(n) \n"
   ]
  },
  {
   "cell_type": "code",
   "execution_count": 18,
   "id": "bdec131b",
   "metadata": {},
   "outputs": [
    {
     "name": "stdout",
     "output_type": "stream",
     "text": [
      "8\n",
      "40320\n"
     ]
    }
   ],
   "source": [
    "def fact(x):\n",
    "    if x == 0:\n",
    "        return 1\n",
    "    return x * fact(x - 1)\n",
    "\n",
    "x=int(input())\n",
    "print(fact(x))"
   ]
  },
  {
   "cell_type": "code",
   "execution_count": null,
   "id": "97c15127",
   "metadata": {},
   "outputs": [],
   "source": [
    "x= input ()\n",
    "for i in range(len (x)):\n",
    "    if i %2 ==0:\n",
    "        print(x[i])\n"
   ]
  },
  {
   "cell_type": "code",
   "execution_count": 38,
   "id": "8768bc17",
   "metadata": {},
   "outputs": [
    {
     "name": "stdout",
     "output_type": "stream",
     "text": [
      "please inter your price: 150\n",
      "Discount :  15.0\n"
     ]
    }
   ],
   "source": [
    "x=int(input(\"please inter your price: \"))\n",
    "if x>=500:\n",
    "    discount= x*0.5\n",
    "elif x in (200,500):\n",
    "    discount= x*0.3\n",
    "elif x<200:\n",
    "    discount= x*0.1\n",
    "\n",
    "print(\"Discount : \",discount)"
   ]
  },
  {
   "cell_type": "code",
   "execution_count": null,
   "id": "84958bc3",
   "metadata": {},
   "outputs": [],
   "source": []
  }
 ],
 "metadata": {
  "kernelspec": {
   "display_name": "Python 3 (ipykernel)",
   "language": "python",
   "name": "python3"
  },
  "language_info": {
   "codemirror_mode": {
    "name": "ipython",
    "version": 3
   },
   "file_extension": ".py",
   "mimetype": "text/x-python",
   "name": "python",
   "nbconvert_exporter": "python",
   "pygments_lexer": "ipython3",
   "version": "3.9.7"
  }
 },
 "nbformat": 4,
 "nbformat_minor": 5
}
